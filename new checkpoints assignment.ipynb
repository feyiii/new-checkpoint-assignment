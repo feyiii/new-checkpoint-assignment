{
 "cells": [
  {
   "cell_type": "code",
   "execution_count": 117,
   "id": "52be2fc8",
   "metadata": {},
   "outputs": [
    {
     "name": "stdout",
     "output_type": "stream",
     "text": [
      "36\n"
     ]
    }
   ],
   "source": [
    "# Write a Python program to multiplies all the items in a list.\n",
    "\n",
    "x = 2\n",
    "y = 3\n",
    "z = 6\n",
    "\n",
    "\n",
    "print(x*y*z)"
   ]
  },
  {
   "cell_type": "code",
   "execution_count": 118,
   "id": "de944cfa",
   "metadata": {},
   "outputs": [
    {
     "name": "stdout",
     "output_type": "stream",
     "text": [
      "[(2, 1), (1, 2), (2, 3), (4, 4), (2, 5)]\n"
     ]
    }
   ],
   "source": [
    "# Write a Python program to get a list, sorted in increasing order by the last element in each tuple from a given list of non-empty tuples.\n",
    "\n",
    "def last(n):\n",
    "    return n[1]  \n",
    "def sort_list_last(tuples):\n",
    "    return sorted(tuples, key=last)\n",
    "\n",
    "print(sort_list_last([(2, 5), (1, 2), (4, 4), (2, 3), (2, 1)]))"
   ]
  },
  {
   "cell_type": "code",
   "execution_count": null,
   "id": "d34bc0f4",
   "metadata": {},
   "outputs": [],
   "source": []
  },
  {
   "cell_type": "code",
   "execution_count": 119,
   "id": "dfc1de75",
   "metadata": {},
   "outputs": [
    {
     "name": "stdout",
     "output_type": "stream",
     "text": [
      "{'a': 400, 'b': 400, 'c': 300, 'd': 400}\n"
     ]
    }
   ],
   "source": [
    "d1 = {'a': 100, 'b':200, 'c':300}\n",
    "d2 ={'a': 300, 'b':200,'d':400}\n",
    "\n",
    "for key in d2:\n",
    "    if key in d1:\n",
    "        d2[key] = d2[key] + d1[key]\n",
    "    else:\n",
    "        pass\n",
    "res = d1| d2\n",
    "print(res)"
   ]
  },
  {
   "cell_type": "code",
   "execution_count": 120,
   "id": "dcc5de6f",
   "metadata": {},
   "outputs": [
    {
     "name": "stdout",
     "output_type": "stream",
     "text": [
      "Enter the value of n: 8\n",
      "{1: 1, 2: 4, 3: 9, 4: 16, 5: 25, 6: 36, 7: 49, 8: 64}\n"
     ]
    }
   ],
   "source": [
    "# With a given integral number n, write a program to generate a dictionary that contains (i, i*i) \n",
    "# such that is an integral number between 1 and n (both included). and then the program should print the dictionary.\n",
    "# Suppose the following input is supplied to the program: 8 Then, the output should be: \n",
    "\n",
    "n = int(input(\"Enter the value of n: \"))\n",
    "dictionary = {i : i*i for i in range(1, n+1)}\n",
    "print(dictionary)"
   ]
  },
  {
   "cell_type": "code",
   "execution_count": 121,
   "id": "4bd32045",
   "metadata": {},
   "outputs": [
    {
     "name": "stdout",
     "output_type": "stream",
     "text": [
      "[('item3', '24.5'), ('item2', '15.10'), ('item1', '12.20')]\n"
     ]
    }
   ],
   "source": [
    "# Write a program to sort a tuple by its float element\n",
    "\n",
    "tuple = [('item1', '12.20'), ('item2', '15.10'), ('item3', '24.5')]\n",
    "print( sorted(tuple, key = lambda x: float(x[1]), reverse=True))"
   ]
  },
  {
   "cell_type": "code",
   "execution_count": null,
   "id": "cadeda0e",
   "metadata": {},
   "outputs": [],
   "source": []
  }
 ],
 "metadata": {
  "kernelspec": {
   "display_name": "Python 3 (ipykernel)",
   "language": "python",
   "name": "python3"
  },
  "language_info": {
   "codemirror_mode": {
    "name": "ipython",
    "version": 3
   },
   "file_extension": ".py",
   "mimetype": "text/x-python",
   "name": "python",
   "nbconvert_exporter": "python",
   "pygments_lexer": "ipython3",
   "version": "3.9.7"
  }
 },
 "nbformat": 4,
 "nbformat_minor": 5
}
